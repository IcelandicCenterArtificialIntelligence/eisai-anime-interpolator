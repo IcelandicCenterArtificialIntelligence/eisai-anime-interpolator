{
 "cells": [
  {
   "cell_type": "code",
   "execution_count": null,
   "id": "d1ecea93-527c-4684-9fe5-727be232bea7",
   "metadata": {},
   "outputs": [],
   "source": [
    "import torch\n",
    "assert torch.cuda.is_available(), 'need gpu runtime (Runtime > Change Runtime Type > GPU)'"
   ]
  },
  {
   "cell_type": "code",
   "execution_count": null,
   "id": "ceeb93a5-816a-464c-b125-b50ef488884b",
   "metadata": {},
   "outputs": [],
   "source": [
    "# install additional dependencies\n",
    "!pip install 'kornia==0.5.2'\n",
    "\n",
    "# setup repo\n",
    "!mkdir -p /content && cd /content && \\\n",
    "git clone https://github.com/ShuhongChen/eisai-anime-interpolator.git && \\\n",
    "gdown 1QxS3PiyM-Vf0lj1eqlXdDvyMqXsKfBna && \\\n",
    "unzip /content/checkpoints.zip -d /content/eisai-anime-interpolator/"
   ]
  },
  {
   "cell_type": "code",
   "execution_count": null,
   "id": "4ee4d9d6-13e7-4b03-9e36-04d1bfe97bec",
   "metadata": {},
   "outputs": [],
   "source": [
    "# run interpolation\n",
    "!cd /content/eisai-anime-interpolator/ && \\\n",
    "python3 -m _scripts.interpolate \\\n",
    "    ./supplementary/colab_demo_inputs/frame1.png \\\n",
    "    ./supplementary/colab_demo_inputs/frame3.png \\\n",
    "    --fps=12 \\\n",
    "    --out=./temp/colab_demo_output"
   ]
  },
  {
   "cell_type": "code",
   "execution_count": null,
   "id": "0557ba72-8815-498c-9ed0-c40359634015",
   "metadata": {},
   "outputs": [],
   "source": [
    "# download output\n",
    "!cd /content/eisai-anime-interpolator/temp/ && \\\n",
    "zip -r colab_demo_output.zip colab_demo_output/\n",
    "from google.colab import files\n",
    "files.download('/content/eisai-anime-interpolator/temp/colab_demo_output.zip') "
   ]
  },
  {
   "cell_type": "code",
   "execution_count": null,
   "id": "1e6706ca-ee7b-443e-b527-699bda18c16a",
   "metadata": {},
   "outputs": [],
   "source": []
  }
 ],
 "metadata": {
  "kernelspec": {
   "display_name": "Python 3",
   "language": "python",
   "name": "python3"
  },
  "language_info": {
   "codemirror_mode": {
    "name": "ipython",
    "version": 3
   },
   "file_extension": ".py",
   "mimetype": "text/x-python",
   "name": "python",
   "nbconvert_exporter": "python",
   "pygments_lexer": "ipython3",
   "version": "3.8.8"
  }
 },
 "nbformat": 4,
 "nbformat_minor": 5
}
